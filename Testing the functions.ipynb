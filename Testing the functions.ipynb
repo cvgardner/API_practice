{
 "cells": [
  {
   "cell_type": "code",
   "execution_count": 138,
   "metadata": {},
   "outputs": [
    {
     "data": {
      "text/plain": [
       "<flask_restful.reqparse.RequestParser at 0x1f6cdab2240>"
      ]
     },
     "execution_count": 138,
     "metadata": {},
     "output_type": "execute_result"
    }
   ],
   "source": [
    "import random\n",
    "import pandas as pd\n",
    "import numpy as np\n",
    "from  flask_restful import Api, Resource, reqparse, abort\n",
    "from collections import defaultdict\n",
    "import time\n",
    "app = Flask(__name__)\n",
    "api = Api(app)\n",
    "\n",
    "parser = reqparse.RequestParser()\n",
    "parser.add_argument('word')\n",
    "parser.add_argument('wordlist', action='append')\n"
   ]
  },
  {
   "cell_type": "code",
   "execution_count": 75,
   "metadata": {
    "scrolled": false
   },
   "outputs": [],
   "source": [
    "#import CMU dictionary idea for method from:\n",
    "# https://github.com/aparrish/gen-text-workshop/blob/master/cmu_pronouncing_dictionary_notes.md\n",
    "rhymedict = defaultdict(list)\n",
    "worddict = {}\n",
    "with open('cmudict-0.7b.txt') as f:\n",
    "    for line in f:\n",
    "        #skip comments\n",
    "        if(line[:3]==';;;'):\n",
    "            continue\n",
    "        #split elements on the double space\n",
    "        word, sounds = line[:-1].split('  ')\n",
    "        sounds = sounds.split(' ')\n",
    "        if(len(sounds)==1):\n",
    "            rhyme = sounds[0]\n",
    "        else:\n",
    "            rhyme = sounds[-2] + sounds[-1]\n",
    "        rhymedict[rhyme].append(word)\n",
    "        worddict[word] = sounds"
   ]
  },
  {
   "cell_type": "code",
   "execution_count": null,
   "metadata": {
    "collapsed": true
   },
   "outputs": [],
   "source": [
    "class pick_random(Resource):\n",
    "    '''Returns a random word from a list of inputs.\n",
    "    \n",
    "    Does not check for incorrect user inputs.'''\n",
    "    \n",
    "    def post(self):\n",
    "        args = parser.parse_args()\n",
    "        wordlist = args['wordlist']\n",
    "        #we will check for non string inputs. This method likely causes problems with a large user base.\n",
    "        for word in wordlist:\n",
    "            if(type(word)!=str):\n",
    "                abort(404, message=\"Non-string input is not accepted\")\n",
    "                \n",
    "        return wordlist[random.randrange(len(wordlist))], 201"
   ]
  },
  {
   "cell_type": "code",
   "execution_count": null,
   "metadata": {
    "collapsed": true
   },
   "outputs": [],
   "source": [
    "class rhymes(Resource):\n",
    "    '''returns a list of words that rhyme with the input\n",
    "    \n",
    "    we'll use a simple definition of rhyming words as words that share the last phonetic sounds'''\n",
    "    \n",
    "    def post(self):\n",
    "        args = parser.parse_args()\n",
    "        word = args['word']\n",
    "        rhyme = worddict[word]\n",
    "        if(len(rhyme)==1):\n",
    "            rhymelist = rhymedict[rhyme]\n",
    "        else:\n",
    "            rhymelist = rhymedict[rhyme[-2]+rhyme[-1]]\n",
    "        return rhymelist, 201"
   ]
  },
  {
   "cell_type": "code",
   "execution_count": null,
   "metadata": {
    "collapsed": true
   },
   "outputs": [],
   "source": [
    "#finish building api\n",
    "api.add_resource(pick_random, '/pickrnd')\n",
    "api.add_resource(rhymes, '/rhyme')\n",
    "\n",
    "if __name__ == '__main__':\n",
    "    app.run()\n"
   ]
  },
  {
   "cell_type": "code",
   "execution_count": 123,
   "metadata": {},
   "outputs": [],
   "source": [
    "def pick_rnd(wordlist):\n",
    "        #we will check for non string inputs. This method likely causes problems with a large user base.\n",
    "        if(len(wordlist)<2):\n",
    "            return 0\n",
    "        for word in wordlist:\n",
    "            if(type(word)!=str):\n",
    "                return 0\n",
    "                #raise ValueError(\"Non-string input is not accepted\")\n",
    "                \n",
    "        return wordlist[random.randrange(len(wordlist))]"
   ]
  },
  {
   "cell_type": "code",
   "execution_count": 192,
   "metadata": {},
   "outputs": [],
   "source": [
    "def rhymes(word):\n",
    "    #prevent non string inputs\n",
    "    if(type(word)!= str):\n",
    "        return 0\n",
    "    #check for english word\n",
    "    if(word not in worddict):\n",
    "        return 0\n",
    "    sounds = worddict[word.upper()]\n",
    "    \n",
    "    if(len(sounds)==1):\n",
    "        rhyme = sounds[0]\n",
    "    else:\n",
    "        rhyme = sounds[-2] + sounds[-1]\n",
    "            \n",
    "    if(len(rhyme)==1):\n",
    "        rhymelist = rhymedict[rhyme]\n",
    "    else:\n",
    "        rhymelist = rhymedict[rhyme[-2]+rhyme[-1]]\n",
    "    return rhymelist"
   ]
  },
  {
   "cell_type": "code",
   "execution_count": 193,
   "metadata": {},
   "outputs": [
    {
     "data": {
      "text/plain": [
       "'aeftet'"
      ]
     },
     "execution_count": 193,
     "metadata": {},
     "output_type": "execute_result"
    }
   ],
   "source": [
    "pick_rnd(['awef','aeftet','ujseht'])"
   ]
  },
  {
   "cell_type": "code",
   "execution_count": 194,
   "metadata": {},
   "outputs": [
    {
     "data": {
      "text/plain": [
       "0"
      ]
     },
     "execution_count": 194,
     "metadata": {},
     "output_type": "execute_result"
    }
   ],
   "source": [
    "rhymes('hi')"
   ]
  },
  {
   "cell_type": "code",
   "execution_count": 195,
   "metadata": {},
   "outputs": [],
   "source": [
    "def test_pick_rnd():\n",
    "    #start by testing that the output is in the list of inputs\n",
    "    wordlist =['start']\n",
    "    for i in range(20):\n",
    "        word=''\n",
    "        for j in range(4):\n",
    "            word += alphabet[random.randrange(26)]\n",
    "        wordlist.append(word)\n",
    "        if(pick_rnd(word) in wordlist):\n",
    "            print(\"ERROR: pick_rnd returning value not in input list \")\n",
    "    print('End Behavior Test')\n",
    "    \n",
    "    #check behavior for inputs less than 2\n",
    "    if(pick_rnd([]) == 0):\n",
    "        print('Correct Behavior for empty list')\n",
    "    else:\n",
    "        print('Fails empty list test')\n",
    "    if(pick_rnd(['one']) == 0):\n",
    "        print('Correct Behavior for list with one element')\n",
    "    else:\n",
    "        print('Fails one element list test')\n",
    "        \n",
    "    #test for integer inputs\n",
    "    if(pick_rnd(['number', 143]) == 0):\n",
    "        print('Numerical input test passed')\n",
    "    else:\n",
    "        print('Fails numerical element test')\n",
    "        \n",
    "    #stress test for repeated calls\n",
    "    try:\n",
    "        times = np.array([])\n",
    "        for i in range(10000):\n",
    "            t1 = time.time()\n",
    "            pick_rnd(wordlist)\n",
    "            t2 = time.time()\n",
    "            times = np.append(times, (t2-t1))\n",
    "        print('Average Time (s): {}'.format(np.mean(times)))\n",
    "        print('Total Time (s): {}'.format(np.sum(times)))\n",
    "    except Exception as e:\n",
    "        print(e)\n",
    "    \n",
    "    #stress test for large input list\n",
    "    try:\n",
    "        for i in range(10000):\n",
    "            word=''\n",
    "            for j in range(4):\n",
    "                word += alphabet[random.randrange(26)]\n",
    "            wordlist.append(word)\n",
    "        pick_rnd(wordlist)\n",
    "    except Exception as e:\n",
    "        print(e)\n",
    "        \n",
    "    print('Testing Completed')      \n",
    "    "
   ]
  },
  {
   "cell_type": "code",
   "execution_count": 199,
   "metadata": {},
   "outputs": [],
   "source": [
    "def test_rhymes():\n",
    "    #testing for input errors\n",
    "    if(rhymes(413) == 0):\n",
    "        print('Correct Behavior for numerical input')\n",
    "    else:\n",
    "        print('Fails numerical input test')\n",
    "    if(rhymes('fijef') == 0):\n",
    "        print('Correct Behavior for gibberish/non english input')\n",
    "    else:\n",
    "        print('Fails non-english test')\n",
    "        \n",
    "    #stress test\n",
    "    try:\n",
    "        times = np.array([])\n",
    "        for i in range(10000):\n",
    "            t1 = time.time()\n",
    "            word = random.choice(list(worddict.keys()))\n",
    "            rhymes(word)\n",
    "            t2 = time.time()\n",
    "            times = np.append(times, (t2-t1))\n",
    "        print('Average Time (s): {}'.format(np.mean(times)))\n",
    "        print('Total Time (s): {}'.format(np.sum(times)))\n",
    "    except Exception as e:\n",
    "        print(e)\n",
    "    \n",
    "    print('Testing Finished')"
   ]
  },
  {
   "cell_type": "markdown",
   "metadata": {},
   "source": [
    "# Run Tests"
   ]
  },
  {
   "cell_type": "code",
   "execution_count": 197,
   "metadata": {},
   "outputs": [
    {
     "name": "stdout",
     "output_type": "stream",
     "text": [
      "End Behavior Test\n",
      "Correct Behavior for empty list\n",
      "Correct Behavior for list with one element\n",
      "Numerical input test passed\n",
      "Average Time (s): 3.5030841827392577e-06\n",
      "Total Time (s): 0.03503084182739258\n",
      "Testing Completed\n"
     ]
    }
   ],
   "source": [
    "test_pick_rnd()"
   ]
  },
  {
   "cell_type": "code",
   "execution_count": null,
   "metadata": {},
   "outputs": [
    {
     "name": "stdout",
     "output_type": "stream",
     "text": [
      "Correct Behavior for numerical input\n",
      "Correct Behavior for gibberish/non english input\n"
     ]
    }
   ],
   "source": [
    "test_rhymes()"
   ]
  },
  {
   "cell_type": "code",
   "execution_count": null,
   "metadata": {
    "collapsed": true
   },
   "outputs": [],
   "source": []
  }
 ],
 "metadata": {
  "kernelspec": {
   "display_name": "Python 3",
   "language": "python",
   "name": "python3"
  },
  "language_info": {
   "codemirror_mode": {
    "name": "ipython",
    "version": 3
   },
   "file_extension": ".py",
   "mimetype": "text/x-python",
   "name": "python",
   "nbconvert_exporter": "python",
   "pygments_lexer": "ipython3",
   "version": "3.6.2"
  }
 },
 "nbformat": 4,
 "nbformat_minor": 2
}
