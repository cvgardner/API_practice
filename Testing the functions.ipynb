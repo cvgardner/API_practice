{
 "cells": [
  {
   "cell_type": "code",
   "execution_count": 53,
   "metadata": {},
   "outputs": [
    {
     "data": {
      "text/plain": [
       "<flask_restful.reqparse.RequestParser at 0x1f6c7e4af28>"
      ]
     },
     "execution_count": 53,
     "metadata": {},
     "output_type": "execute_result"
    }
   ],
   "source": [
    "import random\n",
    "import pandas as pd\n",
    "import numpy as np\n",
    "from  flask_restful import Api, Resource, reqparse\n",
    "from collections import defaultdict\n",
    "app = Flask(__name__)\n",
    "api = Api(app)\n",
    "\n",
    "parser = reqparse.RequestParser()\n",
    "parser.add_argument('word')\n",
    "parser.add_argument('wordlist', action='append')\n"
   ]
  },
  {
   "cell_type": "code",
   "execution_count": 75,
   "metadata": {
    "scrolled": false
   },
   "outputs": [],
   "source": [
    "#import CMU dictionary idea for method from:\n",
    "# https://github.com/aparrish/gen-text-workshop/blob/master/cmu_pronouncing_dictionary_notes.md\n",
    "rhymedict = defaultdict(list)\n",
    "worddict = {}\n",
    "with open('cmudict-0.7b.txt') as f:\n",
    "    for line in f:\n",
    "        #skip comments\n",
    "        if(line[:3]==';;;'):\n",
    "            continue\n",
    "        #split elements on the double space\n",
    "        word, sounds = line[:-1].split('  ')\n",
    "        sounds = sounds.split(' ')\n",
    "        if(len(sounds)==1):\n",
    "            rhyme = sounds[0]\n",
    "        else:\n",
    "            rhyme = sounds[-2] + sounds[-1]\n",
    "        rhymedict[rhyme].append(word)\n",
    "        worddict[word] = sounds"
   ]
  },
  {
   "cell_type": "code",
   "execution_count": null,
   "metadata": {
    "collapsed": true
   },
   "outputs": [],
   "source": [
    "class pick_random(Resource):\n",
    "    '''Returns a random word from a list of inputs.\n",
    "    \n",
    "    Does not check for incorrect user inputs.'''\n",
    "    #We don't check for misinputs due to that api interface feeding strings.\n",
    "    #Number check could be done by attempting to convert all list elements to int\n",
    "    \n",
    "    def post(self):\n",
    "        args = parser.parse_args()\n",
    "        wordlist = args['wordlist']\n",
    "        return wordlist[random.randrange(len(wordlist))]"
   ]
  },
  {
   "cell_type": "code",
   "execution_count": null,
   "metadata": {
    "collapsed": true
   },
   "outputs": [],
   "source": [
    "class rhymes(Resource):\n",
    "    '''returns a list of words that rhyme with the input\n",
    "    \n",
    "    we'll use a simple definition of rhyming words as words that share the last phonetic sounds'''\n",
    "    \n",
    "    def post(self):\n",
    "        args = parser.parse_args()\n",
    "        word = args['word']\n",
    "        rhyme = worddict[word]\n",
    "        if(len(rhyme)==1):\n",
    "            rhymelist = rhymedict[rhyme]\n",
    "        else:\n",
    "            rhymelist = rhymedict[rhyme[-2]+rhyme[-1]]\n",
    "        return rhymelist"
   ]
  },
  {
   "cell_type": "code",
   "execution_count": null,
   "metadata": {
    "collapsed": true
   },
   "outputs": [],
   "source": [
    "#finish building api\n",
    "api.add_resource(pick_random, '/pickrnd')\n",
    "api.add_resource(rhymes, '/rhyme')\n",
    "\n",
    "if __name__ == '__main__':\n",
    "    app.run()\n"
   ]
  },
  {
   "cell_type": "code",
   "execution_count": 69,
   "metadata": {},
   "outputs": [
    {
     "data": {
      "text/plain": [
       "['blah', 'blah', 'blah']"
      ]
     },
     "execution_count": 69,
     "metadata": {},
     "output_type": "execute_result"
    }
   ],
   "source": [
    "phrase = 'blah blah blah'\n",
    "phrase.split(' ')"
   ]
  },
  {
   "cell_type": "code",
   "execution_count": 54,
   "metadata": {},
   "outputs": [
    {
     "data": {
      "text/plain": [
       "True"
      ]
     },
     "execution_count": 54,
     "metadata": {},
     "output_type": "execute_result"
    }
   ],
   "source": [
    "test = 'word(1)'\n",
    "'(' in test"
   ]
  },
  {
   "cell_type": "code",
   "execution_count": 21,
   "metadata": {},
   "outputs": [
    {
     "data": {
      "text/plain": [
       "0"
      ]
     },
     "execution_count": 21,
     "metadata": {},
     "output_type": "execute_result"
    }
   ],
   "source": [
    "random.randrange(5)"
   ]
  },
  {
   "cell_type": "code",
   "execution_count": 28,
   "metadata": {},
   "outputs": [
    {
     "data": {
      "text/plain": [
       "list"
      ]
     },
     "execution_count": 28,
     "metadata": {},
     "output_type": "execute_result"
    }
   ],
   "source": [
    "type(test)"
   ]
  },
  {
   "cell_type": "code",
   "execution_count": 29,
   "metadata": {},
   "outputs": [
    {
     "data": {
      "text/plain": [
       "False"
      ]
     },
     "execution_count": 29,
     "metadata": {},
     "output_type": "execute_result"
    }
   ],
   "source": [
    "int in test"
   ]
  },
  {
   "cell_type": "code",
   "execution_count": 33,
   "metadata": {
    "scrolled": true
   },
   "outputs": [
    {
     "data": {
      "text/plain": [
       "array(['h', 'e', 'l', 'l', 'o', '1'],\n",
       "      dtype='<U1')"
      ]
     },
     "execution_count": 33,
     "metadata": {},
     "output_type": "execute_result"
    }
   ],
   "source": [
    "testnp = np.array(test)\n",
    "testnp"
   ]
  },
  {
   "cell_type": "code",
   "execution_count": 37,
   "metadata": {},
   "outputs": [
    {
     "data": {
      "text/plain": [
       "0    h\n",
       "1    e\n",
       "2    l\n",
       "3    l\n",
       "4    o\n",
       "5    1\n",
       "dtype: object"
      ]
     },
     "execution_count": 37,
     "metadata": {},
     "output_type": "execute_result"
    }
   ],
   "source": [
    "testpd = pd.Series(test)\n",
    "testpd"
   ]
  },
  {
   "cell_type": "code",
   "execution_count": 45,
   "metadata": {
    "scrolled": true
   },
   "outputs": [
    {
     "data": {
      "text/plain": [
       "object:dense    1\n",
       "dtype: int64"
      ]
     },
     "execution_count": 45,
     "metadata": {},
     "output_type": "execute_result"
    }
   ],
   "source": [
    "testpd."
   ]
  },
  {
   "cell_type": "code",
   "execution_count": null,
   "metadata": {
    "collapsed": true
   },
   "outputs": [],
   "source": []
  }
 ],
 "metadata": {
  "kernelspec": {
   "display_name": "Python 3",
   "language": "python",
   "name": "python3"
  },
  "language_info": {
   "codemirror_mode": {
    "name": "ipython",
    "version": 3
   },
   "file_extension": ".py",
   "mimetype": "text/x-python",
   "name": "python",
   "nbconvert_exporter": "python",
   "pygments_lexer": "ipython3",
   "version": "3.6.2"
  }
 },
 "nbformat": 4,
 "nbformat_minor": 2
}
